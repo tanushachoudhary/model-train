{
 "cells": [
  {
   "cell_type": "code",
   "execution_count": 3,
   "metadata": {
    "executionInfo": {
     "elapsed": 1135,
     "status": "ok",
     "timestamp": 1747577895512,
     "user": {
      "displayName": "Tanusha Choudhary",
      "userId": "08769586797265102684"
     },
     "user_tz": -330
    },
    "id": "8_GbvpXssuTU"
   },
   "outputs": [],
   "source": [
    "from sklearn.datasets import load_iris\n",
    "from sklearn.model_selection import train_test_split\n",
    "from sklearn.preprocessing import StandardScaler\n",
    "from sklearn.linear_model import LogisticRegression\n",
    "from sklearn.tree import DecisionTreeClassifier\n",
    "from sklearn.metrics import accuracy_score, classification_report, confusion_matrix"
   ]
  },
  {
   "cell_type": "code",
   "execution_count": 5,
   "metadata": {
    "executionInfo": {
     "elapsed": 4,
     "status": "ok",
     "timestamp": 1747577916535,
     "user": {
      "displayName": "Tanusha Choudhary",
      "userId": "08769586797265102684"
     },
     "user_tz": -330
    },
    "id": "6zvYyF-Owp3f"
   },
   "outputs": [],
   "source": [
    "iris = load_iris()\n",
    "X = iris.data\n",
    "y = iris.target"
   ]
  },
  {
   "cell_type": "code",
   "execution_count": 6,
   "metadata": {
    "executionInfo": {
     "elapsed": 4,
     "status": "ok",
     "timestamp": 1747577930596,
     "user": {
      "displayName": "Tanusha Choudhary",
      "userId": "08769586797265102684"
     },
     "user_tz": -330
    },
    "id": "kT3dFY2jwvY1"
   },
   "outputs": [],
   "source": [
    "X_train, X_test, y_train, y_test = train_test_split(X, y, test_size=0.2, random_state=42)"
   ]
  },
  {
   "cell_type": "code",
   "execution_count": 7,
   "metadata": {
    "executionInfo": {
     "elapsed": 910,
     "status": "ok",
     "timestamp": 1747578068312,
     "user": {
      "displayName": "Tanusha Choudhary",
      "userId": "08769586797265102684"
     },
     "user_tz": -330
    },
    "id": "lBEzUDB2xOCg"
   },
   "outputs": [],
   "source": [
    "# Normalize Features\n",
    "scaler = StandardScaler()\n",
    "X_train_scaled = scaler.fit_transform(X_train)\n",
    "X_test_scaled = scaler.transform(X_test)"
   ]
  },
  {
   "cell_type": "code",
   "execution_count": 8,
   "metadata": {
    "executionInfo": {
     "elapsed": 922,
     "status": "ok",
     "timestamp": 1747578084342,
     "user": {
      "displayName": "Tanusha Choudhary",
      "userId": "08769586797265102684"
     },
     "user_tz": -330
    },
    "id": "bd7YiWuQxTlI"
   },
   "outputs": [],
   "source": [
    "# Train Logistic Regression Model\n",
    "log_model = LogisticRegression(max_iter=200)\n",
    "log_model.fit(X_train_scaled, y_train)\n",
    "log_preds = log_model.predict(X_test_scaled)"
   ]
  },
  {
   "cell_type": "code",
   "execution_count": 9,
   "metadata": {
    "executionInfo": {
     "elapsed": 972,
     "status": "ok",
     "timestamp": 1747578102580,
     "user": {
      "displayName": "Tanusha Choudhary",
      "userId": "08769586797265102684"
     },
     "user_tz": -330
    },
    "id": "hIaor41ExXUu"
   },
   "outputs": [],
   "source": [
    "# Train Decision Tree Model (no need to scale)\n",
    "tree_model = DecisionTreeClassifier(random_state=42)\n",
    "tree_model.fit(X_train, y_train)\n",
    "tree_preds = tree_model.predict(X_test)"
   ]
  },
  {
   "cell_type": "code",
   "execution_count": 10,
   "metadata": {
    "colab": {
     "base_uri": "https://localhost:8080/"
    },
    "executionInfo": {
     "elapsed": 7,
     "status": "ok",
     "timestamp": 1747578121096,
     "user": {
      "displayName": "Tanusha Choudhary",
      "userId": "08769586797265102684"
     },
     "user_tz": -330
    },
    "id": "T7_2QHzyxatG",
    "outputId": "9343a209-691d-4f06-9359-bbceb2b6aa5e"
   },
   "outputs": [
    {
     "name": "stdout",
     "output_type": "stream",
     "text": [
      "🔹 Logistic Regression:\n",
      "Accuracy: 1.0\n",
      "Confusion Matrix:\n",
      " [[10  0  0]\n",
      " [ 0  9  0]\n",
      " [ 0  0 11]]\n",
      "Classification Report:\n",
      "               precision    recall  f1-score   support\n",
      "\n",
      "      setosa       1.00      1.00      1.00        10\n",
      "  versicolor       1.00      1.00      1.00         9\n",
      "   virginica       1.00      1.00      1.00        11\n",
      "\n",
      "    accuracy                           1.00        30\n",
      "   macro avg       1.00      1.00      1.00        30\n",
      "weighted avg       1.00      1.00      1.00        30\n",
      "\n"
     ]
    }
   ],
   "source": [
    "print(\"🔹 Logistic Regression:\")\n",
    "print(\"Accuracy:\", accuracy_score(y_test, log_preds))\n",
    "print(\"Confusion Matrix:\\n\", confusion_matrix(y_test, log_preds))\n",
    "print(\"Classification Report:\\n\", classification_report(y_test, log_preds, target_names=iris.target_names))"
   ]
  },
  {
   "cell_type": "code",
   "execution_count": 11,
   "metadata": {
    "colab": {
     "base_uri": "https://localhost:8080/"
    },
    "executionInfo": {
     "elapsed": 773,
     "status": "ok",
     "timestamp": 1747578143028,
     "user": {
      "displayName": "Tanusha Choudhary",
      "userId": "08769586797265102684"
     },
     "user_tz": -330
    },
    "id": "wf3GPdHexdGB",
    "outputId": "8e404a2a-9b41-4784-a28f-1eaad5161276"
   },
   "outputs": [
    {
     "name": "stdout",
     "output_type": "stream",
     "text": [
      "\n",
      "🔸 Decision Tree:\n",
      "Accuracy: 1.0\n",
      "Confusion Matrix:\n",
      " [[10  0  0]\n",
      " [ 0  9  0]\n",
      " [ 0  0 11]]\n",
      "Classification Report:\n",
      "               precision    recall  f1-score   support\n",
      "\n",
      "      setosa       1.00      1.00      1.00        10\n",
      "  versicolor       1.00      1.00      1.00         9\n",
      "   virginica       1.00      1.00      1.00        11\n",
      "\n",
      "    accuracy                           1.00        30\n",
      "   macro avg       1.00      1.00      1.00        30\n",
      "weighted avg       1.00      1.00      1.00        30\n",
      "\n"
     ]
    }
   ],
   "source": [
    "print(\"\\n🔸 Decision Tree:\")\n",
    "print(\"Accuracy:\", accuracy_score(y_test, tree_preds))\n",
    "print(\"Confusion Matrix:\\n\", confusion_matrix(y_test, tree_preds))\n",
    "print(\"Classification Report:\\n\", classification_report(y_test, tree_preds, target_names=iris.target_names))"
   ]
  }
 ],
 "metadata": {
  "colab": {
   "authorship_tag": "ABX9TyMJ7/hXuInpLPug+vMtCLHc",
   "provenance": []
  },
  "kernelspec": {
   "display_name": "Python 3",
   "name": "python3"
  },
  "language_info": {
   "name": "python"
  }
 },
 "nbformat": 4,
 "nbformat_minor": 0
}
